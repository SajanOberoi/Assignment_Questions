{
 "cells": [
  {
   "cell_type": "code",
   "execution_count": 1,
   "id": "95f60c13",
   "metadata": {},
   "outputs": [],
   "source": [
    "import pandas as pd"
   ]
  },
  {
   "cell_type": "code",
   "execution_count": 2,
   "id": "96a23d0f",
   "metadata": {},
   "outputs": [],
   "source": [
    "df=pd.read_csv(r\"C:/Users/obero/Downloads/constituents-financials (1).csv\")"
   ]
  },
  {
   "cell_type": "code",
   "execution_count": null,
   "id": "6dc132b4",
   "metadata": {},
   "outputs": [],
   "source": [
    "df[\"Market Cap\"].isnull().sum()"
   ]
  },
  {
   "cell_type": "code",
   "execution_count": 3,
   "id": "8f07d264",
   "metadata": {},
   "outputs": [],
   "source": [
    "li=df[\"Market Cap\"]"
   ]
  },
  {
   "cell_type": "code",
   "execution_count": 7,
   "id": "3f666c46",
   "metadata": {},
   "outputs": [],
   "source": [
    "li=sorted(li)"
   ]
  },
  {
   "cell_type": "code",
   "execution_count": 8,
   "id": "11f0b23f",
   "metadata": {},
   "outputs": [
    {
     "data": {
      "text/plain": [
       "505"
      ]
     },
     "execution_count": 8,
     "metadata": {},
     "output_type": "execute_result"
    }
   ],
   "source": [
    "len(li)"
   ]
  },
  {
   "cell_type": "code",
   "execution_count": 14,
   "id": "779eaa79",
   "metadata": {},
   "outputs": [],
   "source": [
    "small_cap=li[250]\n",
    "mid_cap=li[400]"
   ]
  },
  {
   "cell_type": "code",
   "execution_count": 16,
   "id": "71c5f299",
   "metadata": {},
   "outputs": [
    {
     "data": {
      "text/plain": [
       "53467692395"
      ]
     },
     "execution_count": 16,
     "metadata": {},
     "output_type": "execute_result"
    }
   ],
   "source": [
    "mid_cap"
   ]
  },
  {
   "cell_type": "code",
   "execution_count": 17,
   "id": "a028701d",
   "metadata": {},
   "outputs": [
    {
     "data": {
      "text/plain": [
       "21101697598"
      ]
     },
     "execution_count": 17,
     "metadata": {},
     "output_type": "execute_result"
    }
   ],
   "source": [
    "small_cap"
   ]
  },
  {
   "cell_type": "code",
   "execution_count": null,
   "id": "2ce345a6",
   "metadata": {},
   "outputs": [],
   "source": []
  }
 ],
 "metadata": {
  "kernelspec": {
   "display_name": "Python 3",
   "language": "python",
   "name": "python3"
  },
  "language_info": {
   "codemirror_mode": {
    "name": "ipython",
    "version": 3
   },
   "file_extension": ".py",
   "mimetype": "text/x-python",
   "name": "python",
   "nbconvert_exporter": "python",
   "pygments_lexer": "ipython3",
   "version": "3.8.8"
  }
 },
 "nbformat": 4,
 "nbformat_minor": 5
}
