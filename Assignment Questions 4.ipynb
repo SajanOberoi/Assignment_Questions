{
 "cells": [
  {
   "cell_type": "markdown",
   "id": "76115feb",
   "metadata": {},
   "source": [
    "Question 1"
   ]
  },
  {
   "cell_type": "code",
   "execution_count": 1,
   "id": "9cf19f00",
   "metadata": {},
   "outputs": [],
   "source": [
    "def three_sorted(li1,li2,li3):\n",
    "    final=[] # final list for common items \n",
    "    for i in li1:\n",
    "        if i in li2 and i in li3:\n",
    "            final.append(i)\n",
    "    return final"
   ]
  },
  {
   "cell_type": "code",
   "execution_count": 2,
   "id": "53a77c0f",
   "metadata": {},
   "outputs": [
    {
     "data": {
      "text/plain": [
       "[1, 5]"
      ]
     },
     "execution_count": 2,
     "metadata": {},
     "output_type": "execute_result"
    }
   ],
   "source": [
    "three_sorted([1,2,3,4,5], [1,2,5,7,9], [1,3,4,5,8])"
   ]
  },
  {
   "cell_type": "code",
   "execution_count": null,
   "id": "e799dec3",
   "metadata": {},
   "outputs": [],
   "source": []
  },
  {
   "cell_type": "code",
   "execution_count": null,
   "id": "ad706480",
   "metadata": {},
   "outputs": [],
   "source": []
  },
  {
   "cell_type": "code",
   "execution_count": null,
   "id": "c4b55e99",
   "metadata": {},
   "outputs": [],
   "source": []
  },
  {
   "cell_type": "markdown",
   "id": "54843042",
   "metadata": {},
   "source": [
    "Question 2"
   ]
  },
  {
   "cell_type": "code",
   "execution_count": 3,
   "id": "3cd50e86",
   "metadata": {},
   "outputs": [],
   "source": [
    "def uniques(li1,li2):\n",
    "    for i in li1: # looping through all elements of first list\n",
    "        if i in li2: # checing if item of first list is present in second\n",
    "            li1.remove(i) # removing if item is found common in both list\n",
    "            li2.remove(i) # removing if item is found common in both list\n",
    "    return [li1,li2]"
   ]
  },
  {
   "cell_type": "code",
   "execution_count": 4,
   "id": "1b53df54",
   "metadata": {},
   "outputs": [
    {
     "data": {
      "text/plain": [
       "[[1, 3], [4, 6]]"
      ]
     },
     "execution_count": 4,
     "metadata": {},
     "output_type": "execute_result"
    }
   ],
   "source": [
    "uniques([1,2,3], [2,4,6])"
   ]
  },
  {
   "cell_type": "code",
   "execution_count": null,
   "id": "13165b42",
   "metadata": {},
   "outputs": [],
   "source": []
  },
  {
   "cell_type": "code",
   "execution_count": null,
   "id": "79f4ee5e",
   "metadata": {},
   "outputs": [],
   "source": []
  },
  {
   "cell_type": "code",
   "execution_count": null,
   "id": "41f24590",
   "metadata": {},
   "outputs": [],
   "source": []
  },
  {
   "cell_type": "code",
   "execution_count": null,
   "id": "3b70eae8",
   "metadata": {},
   "outputs": [],
   "source": [
    "Question 3"
   ]
  },
  {
   "cell_type": "code",
   "execution_count": 10,
   "id": "4636a8b8",
   "metadata": {},
   "outputs": [],
   "source": [
    "def matrix(li):\n",
    "#     li1=li[:][:]\n",
    "#     print(li1)\n",
    "    for i in range(len(li)):\n",
    "        for j in range(i+1,len(li[i])):\n",
    "            li[i][j],li[j][i]=li[j][i],li[i][j]\n",
    "    return li"
   ]
  },
  {
   "cell_type": "code",
   "execution_count": 11,
   "id": "2afe9a28",
   "metadata": {},
   "outputs": [
    {
     "data": {
      "text/plain": [
       "[[1, 4, 7], [2, 5, 8], [3, 6, 9]]"
      ]
     },
     "execution_count": 11,
     "metadata": {},
     "output_type": "execute_result"
    }
   ],
   "source": [
    "matrix([[1,2,3],[4,5,6],[7,8,9]])"
   ]
  },
  {
   "cell_type": "code",
   "execution_count": null,
   "id": "f364d5c9",
   "metadata": {},
   "outputs": [],
   "source": []
  },
  {
   "cell_type": "code",
   "execution_count": null,
   "id": "d5eaae3b",
   "metadata": {},
   "outputs": [],
   "source": []
  },
  {
   "cell_type": "code",
   "execution_count": null,
   "id": "6a78684a",
   "metadata": {},
   "outputs": [],
   "source": []
  },
  {
   "cell_type": "code",
   "execution_count": null,
   "id": "f6c461c1",
   "metadata": {},
   "outputs": [],
   "source": [
    "Question 4"
   ]
  },
  {
   "cell_type": "code",
   "execution_count": 2,
   "id": "11b43d56",
   "metadata": {},
   "outputs": [],
   "source": [
    "def maxi(li):\n",
    "    li=sorted(li) #sorting the array to get pairs in such a way that we can get max sum even if we are choosing the min from pair\n",
    "    result=0\n",
    "    for i in range(0,len(li),2):\n",
    "        result+=min(li[i],li[i+1])\n",
    "    return result"
   ]
  },
  {
   "cell_type": "code",
   "execution_count": 3,
   "id": "8cec839c",
   "metadata": {},
   "outputs": [
    {
     "data": {
      "text/plain": [
       "4"
      ]
     },
     "execution_count": 3,
     "metadata": {},
     "output_type": "execute_result"
    }
   ],
   "source": [
    "maxi([1,4,3,2])"
   ]
  },
  {
   "cell_type": "code",
   "execution_count": null,
   "id": "9b17062e",
   "metadata": {},
   "outputs": [],
   "source": []
  },
  {
   "cell_type": "code",
   "execution_count": null,
   "id": "4f8abcfa",
   "metadata": {},
   "outputs": [],
   "source": []
  },
  {
   "cell_type": "code",
   "execution_count": null,
   "id": "79b35782",
   "metadata": {},
   "outputs": [],
   "source": []
  },
  {
   "cell_type": "code",
   "execution_count": null,
   "id": "b5444ac7",
   "metadata": {},
   "outputs": [],
   "source": [
    "Question 5"
   ]
  },
  {
   "cell_type": "code",
   "execution_count": 4,
   "id": "cd4fa253",
   "metadata": {},
   "outputs": [],
   "source": [
    "def coins(n):\n",
    "    result=0 # successful staitrs of coins\n",
    "    i=1\n",
    "    while n>=i: # to only get the stairs is we have sufficient coins to fill the level \n",
    "        result+=1 #incrementing our result\n",
    "        n-=i # to reduce the coins we have already used\n",
    "        i+=1 # increaseing the level of ladder so to get the number of required coins\n",
    "    return result\n",
    "        "
   ]
  },
  {
   "cell_type": "code",
   "execution_count": 9,
   "id": "1897643a",
   "metadata": {},
   "outputs": [
    {
     "data": {
      "text/plain": [
       "4"
      ]
     },
     "execution_count": 9,
     "metadata": {},
     "output_type": "execute_result"
    }
   ],
   "source": [
    "coins(10)"
   ]
  },
  {
   "cell_type": "code",
   "execution_count": null,
   "id": "6e33be17",
   "metadata": {},
   "outputs": [],
   "source": []
  },
  {
   "cell_type": "code",
   "execution_count": null,
   "id": "bcaf5331",
   "metadata": {},
   "outputs": [],
   "source": []
  },
  {
   "cell_type": "code",
   "execution_count": null,
   "id": "c012b995",
   "metadata": {},
   "outputs": [],
   "source": []
  },
  {
   "cell_type": "code",
   "execution_count": null,
   "id": "cb78f1de",
   "metadata": {},
   "outputs": [],
   "source": [
    "Question 6"
   ]
  },
  {
   "cell_type": "code",
   "execution_count": 14,
   "id": "67f27582",
   "metadata": {},
   "outputs": [],
   "source": [
    "def square(li):\n",
    "    result=[]\n",
    "    for i in li:\n",
    "        result.append(i*i)\n",
    "    return sorted(result)"
   ]
  },
  {
   "cell_type": "code",
   "execution_count": 15,
   "id": "d782ad49",
   "metadata": {},
   "outputs": [
    {
     "data": {
      "text/plain": [
       "[0, 1, 9, 16, 100]"
      ]
     },
     "execution_count": 15,
     "metadata": {},
     "output_type": "execute_result"
    }
   ],
   "source": [
    "square([-4,-1,0,3,10])"
   ]
  },
  {
   "cell_type": "code",
   "execution_count": null,
   "id": "6721a76a",
   "metadata": {},
   "outputs": [],
   "source": []
  },
  {
   "cell_type": "code",
   "execution_count": null,
   "id": "fb138b34",
   "metadata": {},
   "outputs": [],
   "source": []
  },
  {
   "cell_type": "code",
   "execution_count": null,
   "id": "277bddac",
   "metadata": {},
   "outputs": [],
   "source": []
  },
  {
   "cell_type": "code",
   "execution_count": null,
   "id": "e9a860fb",
   "metadata": {},
   "outputs": [],
   "source": []
  },
  {
   "cell_type": "code",
   "execution_count": null,
   "id": "a812ec3d",
   "metadata": {},
   "outputs": [],
   "source": [
    "Question 7"
   ]
  },
  {
   "cell_type": "code",
   "execution_count": 24,
   "id": "c2be03cc",
   "metadata": {},
   "outputs": [],
   "source": [
    "def matrixinc(m,n,ops):\n",
    "    length=len(ops)\n",
    "    if len==0:\n",
    "        return m*n\n",
    "    result=[ops[0][0] , ops[0][1]]\n",
    "    for i in range(1,length):\n",
    "        result[0] = min(result[0] , ops[i][0])\n",
    "        result[1] = min(result[1] , ops[i][1])\n",
    "    return result[0]*result[1]   "
   ]
  },
  {
   "cell_type": "code",
   "execution_count": 25,
   "id": "02488216",
   "metadata": {},
   "outputs": [
    {
     "data": {
      "text/plain": [
       "4"
      ]
     },
     "execution_count": 25,
     "metadata": {},
     "output_type": "execute_result"
    }
   ],
   "source": [
    "matrixinc(m = 4, n = 4, ops = [[2,2],[3,3],[4,4]])"
   ]
  },
  {
   "cell_type": "code",
   "execution_count": null,
   "id": "68b19d2d",
   "metadata": {},
   "outputs": [],
   "source": []
  },
  {
   "cell_type": "code",
   "execution_count": null,
   "id": "cb2b7695",
   "metadata": {},
   "outputs": [],
   "source": []
  },
  {
   "cell_type": "code",
   "execution_count": null,
   "id": "37571ba0",
   "metadata": {},
   "outputs": [],
   "source": []
  },
  {
   "cell_type": "code",
   "execution_count": null,
   "id": "387a647b",
   "metadata": {},
   "outputs": [],
   "source": []
  },
  {
   "cell_type": "markdown",
   "id": "32c85ac8",
   "metadata": {},
   "source": [
    "Question 8"
   ]
  },
  {
   "cell_type": "code",
   "execution_count": 32,
   "id": "3ce31b06",
   "metadata": {},
   "outputs": [],
   "source": [
    "def mixlist(li):\n",
    "    half=int(len(li)/2)\n",
    "    first=li[:half]\n",
    "    second=li[half:]\n",
    "    result=[]\n",
    "    for i in range(half):\n",
    "        result.append(first[i])\n",
    "        result.append(second[i])\n",
    "    return result"
   ]
  },
  {
   "cell_type": "code",
   "execution_count": 33,
   "id": "59fad54d",
   "metadata": {},
   "outputs": [
    {
     "name": "stdout",
     "output_type": "stream",
     "text": [
      "3\n"
     ]
    },
    {
     "data": {
      "text/plain": [
       "[2, 3, 5, 4, 1, 7]"
      ]
     },
     "execution_count": 33,
     "metadata": {},
     "output_type": "execute_result"
    }
   ],
   "source": [
    "mixlist([2,5,1,3,4,7])"
   ]
  },
  {
   "cell_type": "code",
   "execution_count": null,
   "id": "6c392659",
   "metadata": {},
   "outputs": [],
   "source": []
  }
 ],
 "metadata": {
  "kernelspec": {
   "display_name": "Python 3",
   "language": "python",
   "name": "python3"
  },
  "language_info": {
   "codemirror_mode": {
    "name": "ipython",
    "version": 3
   },
   "file_extension": ".py",
   "mimetype": "text/x-python",
   "name": "python",
   "nbconvert_exporter": "python",
   "pygments_lexer": "ipython3",
   "version": "3.8.8"
  }
 },
 "nbformat": 4,
 "nbformat_minor": 5
}
