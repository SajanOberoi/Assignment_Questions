{
 "cells": [
  {
   "cell_type": "markdown",
   "id": "dedb9693",
   "metadata": {},
   "source": [
    "Question-1"
   ]
  },
  {
   "cell_type": "code",
   "execution_count": 1,
   "id": "f610f170",
   "metadata": {},
   "outputs": [],
   "source": [
    "def maximized(li):\n",
    "    li1=sorted(li)\n",
    "    return sum(li1[::2])"
   ]
  },
  {
   "cell_type": "code",
   "execution_count": 2,
   "id": "ff02188d",
   "metadata": {},
   "outputs": [
    {
     "data": {
      "text/plain": [
       "9"
      ]
     },
     "execution_count": 2,
     "metadata": {},
     "output_type": "execute_result"
    }
   ],
   "source": [
    "maximized([6,2,6,5,1,2])"
   ]
  },
  {
   "cell_type": "markdown",
   "id": "e703bacf",
   "metadata": {},
   "source": [
    "Question-2"
   ]
  },
  {
   "cell_type": "code",
   "execution_count": 3,
   "id": "3355a26d",
   "metadata": {},
   "outputs": [],
   "source": [
    "def candy(li):\n",
    "    if len(li)/2 <= len(set(li)):\n",
    "        return int(len(li)/2)\n",
    "    else:\n",
    "        return len(set(li))\n"
   ]
  },
  {
   "cell_type": "code",
   "execution_count": 4,
   "id": "0707fada",
   "metadata": {},
   "outputs": [
    {
     "data": {
      "text/plain": [
       "4"
      ]
     },
     "execution_count": 4,
     "metadata": {},
     "output_type": "execute_result"
    }
   ],
   "source": [
    "candy([1,1,2,2,3,3,4,5])"
   ]
  },
  {
   "cell_type": "markdown",
   "id": "1aa52956",
   "metadata": {},
   "source": [
    "Question-3"
   ]
  },
  {
   "cell_type": "code",
   "execution_count": 5,
   "id": "bad01aa2",
   "metadata": {},
   "outputs": [],
   "source": [
    "def harmonious(li):\n",
    "    left=0\n",
    "    result=0\n",
    "    li = sorted(li)\n",
    "    for i in range(len(li)):\n",
    "        while left < i and li[i] - li[left] > 1:\n",
    "            left += 1\n",
    "        if li[i] - li[left] == 1:\n",
    "            result = max(i - left + 1, result)\n",
    "    return result"
   ]
  },
  {
   "cell_type": "code",
   "execution_count": 6,
   "id": "b6ac6557",
   "metadata": {},
   "outputs": [
    {
     "data": {
      "text/plain": [
       "5"
      ]
     },
     "execution_count": 6,
     "metadata": {},
     "output_type": "execute_result"
    }
   ],
   "source": [
    "harmonious([1,3,2,2,5,2,3,7])"
   ]
  },
  {
   "cell_type": "markdown",
   "id": "479b8e18",
   "metadata": {},
   "source": [
    "Question-4"
   ]
  },
  {
   "cell_type": "code",
   "execution_count": 7,
   "id": "3c6ebb22",
   "metadata": {},
   "outputs": [],
   "source": [
    "def flowerbed(li,n):\n",
    "    flag=False\n",
    "    counter=0\n",
    "    if li[0]==0:\n",
    "        for i in range(1,len(li),2):\n",
    "            if li[i]==0:\n",
    "                counter+=1\n",
    "    else:\n",
    "        for i in range(2,len(li),2):\n",
    "            if li[i]==0:\n",
    "                counter+=1\n",
    "    if n<=counter:\n",
    "        flag=True\n",
    "    return flag\n",
    "        "
   ]
  },
  {
   "cell_type": "code",
   "execution_count": 8,
   "id": "c3cb25e4",
   "metadata": {},
   "outputs": [
    {
     "data": {
      "text/plain": [
       "False"
      ]
     },
     "execution_count": 8,
     "metadata": {},
     "output_type": "execute_result"
    }
   ],
   "source": [
    "flowerbed([0,0,0,0,1],3)"
   ]
  },
  {
   "cell_type": "markdown",
   "id": "9d3e7e2d",
   "metadata": {},
   "source": [
    "Question-5"
   ]
  },
  {
   "cell_type": "code",
   "execution_count": 9,
   "id": "561ab473",
   "metadata": {},
   "outputs": [],
   "source": [
    "import math\n",
    "def maximum(li):\n",
    "    li=sorted(li)\n",
    "    return (math.prod(li[-1:-4:-1]))"
   ]
  },
  {
   "cell_type": "code",
   "execution_count": 10,
   "id": "6af10a76",
   "metadata": {},
   "outputs": [
    {
     "data": {
      "text/plain": [
       "324"
      ]
     },
     "execution_count": 10,
     "metadata": {},
     "output_type": "execute_result"
    }
   ],
   "source": [
    "maximum([5,6,9,6,3,2,5,4])"
   ]
  },
  {
   "cell_type": "markdown",
   "id": "24bd2d6e",
   "metadata": {},
   "source": [
    "Question-6"
   ]
  },
  {
   "cell_type": "code",
   "execution_count": 11,
   "id": "4427ebad",
   "metadata": {},
   "outputs": [],
   "source": [
    "def search(li,k):\n",
    "        if k in li:\n",
    "            return(li.index(k))\n",
    "        return -1"
   ]
  },
  {
   "cell_type": "code",
   "execution_count": 12,
   "id": "f2e88778",
   "metadata": {},
   "outputs": [
    {
     "data": {
      "text/plain": [
       "4"
      ]
     },
     "execution_count": 12,
     "metadata": {},
     "output_type": "execute_result"
    }
   ],
   "source": [
    "search([-1,0,3,5,9,12], 9)"
   ]
  },
  {
   "cell_type": "markdown",
   "id": "43fc9240",
   "metadata": {},
   "source": [
    "Question-7"
   ]
  },
  {
   "cell_type": "code",
   "execution_count": 13,
   "id": "a396be91",
   "metadata": {},
   "outputs": [],
   "source": [
    "def mono(li):\n",
    "    li1=sorted(li)\n",
    "    li2=sorted(li,reverse=True)\n",
    "    if li==li1 or li==li2:\n",
    "        return True\n",
    "    return False"
   ]
  },
  {
   "cell_type": "code",
   "execution_count": 14,
   "id": "8e32f916",
   "metadata": {},
   "outputs": [
    {
     "data": {
      "text/plain": [
       "True"
      ]
     },
     "execution_count": 14,
     "metadata": {},
     "output_type": "execute_result"
    }
   ],
   "source": [
    "mono([])"
   ]
  },
  {
   "cell_type": "markdown",
   "id": "d24d69c1",
   "metadata": {},
   "source": [
    "Question-8"
   ]
  },
  {
   "cell_type": "code",
   "execution_count": 15,
   "id": "c6d20e28",
   "metadata": {},
   "outputs": [],
   "source": [
    "def operation(li,k):\n",
    "    first=min(li)\n",
    "    last=max(li)\n",
    "    if abs(last-first)>abs(k):\n",
    "        first+=abs(k)\n",
    "        last-=abs(k)\n",
    "    return abs(last-first)\n",
    "        "
   ]
  },
  {
   "cell_type": "code",
   "execution_count": 16,
   "id": "550c3879",
   "metadata": {},
   "outputs": [
    {
     "data": {
      "text/plain": [
       "2"
      ]
     },
     "execution_count": 16,
     "metadata": {},
     "output_type": "execute_result"
    }
   ],
   "source": [
    "operation([1,3],4)"
   ]
  },
  {
   "cell_type": "code",
   "execution_count": null,
   "id": "d6061596",
   "metadata": {},
   "outputs": [],
   "source": []
  }
 ],
 "metadata": {
  "kernelspec": {
   "display_name": "Python 3",
   "language": "python",
   "name": "python3"
  },
  "language_info": {
   "codemirror_mode": {
    "name": "ipython",
    "version": 3
   },
   "file_extension": ".py",
   "mimetype": "text/x-python",
   "name": "python",
   "nbconvert_exporter": "python",
   "pygments_lexer": "ipython3",
   "version": "3.8.8"
  }
 },
 "nbformat": 4,
 "nbformat_minor": 5
}
