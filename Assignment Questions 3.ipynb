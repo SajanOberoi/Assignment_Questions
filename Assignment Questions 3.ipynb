{
 "cells": [
  {
   "cell_type": "markdown",
   "id": "9e13d13a",
   "metadata": {},
   "source": [
    "Question 1"
   ]
  },
  {
   "cell_type": "code",
   "execution_count": 1,
   "id": "de21449d",
   "metadata": {},
   "outputs": [],
   "source": [
    "import sys\n",
    "def closest(li,key):\n",
    "    li=sorted(li)\n",
    "    counter=sys.maxsize\n",
    "    \n",
    "    for i in range(len(li)):\n",
    "        \n",
    "        for j in range(i+1, len(li)):\n",
    "            \n",
    "            for k in range(j+1,len(li)):\n",
    "                \n",
    "                if (abs(key-counter)>abs(key-(li[i]+li[j]+li[k]))):\n",
    "                    counter=li[i]+li[j]+li[k]\n",
    "                    \n",
    "                    \n",
    "    return counter  "
   ]
  },
  {
   "cell_type": "code",
   "execution_count": 2,
   "id": "683d1778",
   "metadata": {},
   "outputs": [
    {
     "data": {
      "text/plain": [
       "1"
      ]
     },
     "execution_count": 2,
     "metadata": {},
     "output_type": "execute_result"
    }
   ],
   "source": [
    "closest([-1,2,1,-4,1],1)"
   ]
  },
  {
   "cell_type": "code",
   "execution_count": null,
   "id": "93d9cca3",
   "metadata": {},
   "outputs": [],
   "source": []
  },
  {
   "cell_type": "code",
   "execution_count": null,
   "id": "e640081d",
   "metadata": {},
   "outputs": [],
   "source": []
  },
  {
   "cell_type": "code",
   "execution_count": null,
   "id": "a83e48dc",
   "metadata": {},
   "outputs": [],
   "source": []
  },
  {
   "cell_type": "markdown",
   "id": "77aa12ba",
   "metadata": {},
   "source": [
    "Question 2"
   ]
  },
  {
   "cell_type": "code",
   "execution_count": 4,
   "id": "748ccb49",
   "metadata": {},
   "outputs": [],
   "source": [
    "def quadruplets(li,x):\n",
    "    li1=[]\n",
    "    li=sorted(li)\n",
    "    for i in range(len(li)):\n",
    "        for j in range(i+1,len(li)):\n",
    "            for k in range(j+1,len(li)):\n",
    "                for l in range(k+1,len(li)):\n",
    "                    if li[i]+li[j]+li[k]+li[l]==x:\n",
    "                        li1.append([li[i],li[j],li[k],li[l]])\n",
    "    return li1"
   ]
  },
  {
   "cell_type": "code",
   "execution_count": 5,
   "id": "c507fa42",
   "metadata": {},
   "outputs": [
    {
     "data": {
      "text/plain": [
       "[[-2, -1, 1, 2], [-2, 0, 0, 2], [-1, 0, 0, 1]]"
      ]
     },
     "execution_count": 5,
     "metadata": {},
     "output_type": "execute_result"
    }
   ],
   "source": [
    "quadruplets([1,0,-1,0,-2,2],0)"
   ]
  },
  {
   "cell_type": "code",
   "execution_count": null,
   "id": "973a6f49",
   "metadata": {},
   "outputs": [],
   "source": []
  },
  {
   "cell_type": "code",
   "execution_count": null,
   "id": "7984601f",
   "metadata": {},
   "outputs": [],
   "source": []
  },
  {
   "cell_type": "code",
   "execution_count": null,
   "id": "4695defe",
   "metadata": {},
   "outputs": [],
   "source": []
  },
  {
   "cell_type": "markdown",
   "id": "675a3808",
   "metadata": {},
   "source": [
    "Question 3"
   ]
  },
  {
   "cell_type": "code",
   "execution_count": 6,
   "id": "9be806d2",
   "metadata": {},
   "outputs": [],
   "source": [
    "def next_permutation(nums):\n",
    "    i = len(nums) - 2\n",
    "    while i >= 0 and nums[i + 1] <= nums[i]:\n",
    "        i -= 1\n",
    "    if i >= 0:\n",
    "        j = len(nums) - 1\n",
    "        while nums[j] <= nums[i]:\n",
    "            j -= 1\n",
    "        nums[i], nums[j] = nums[j], nums[i]\n",
    "    reverse(nums, i + 1)\n",
    " \n",
    "def reverse(nums, start):\n",
    "    i, j = start, len(nums) - 1\n",
    "    while i < j:\n",
    "        nums[i], nums[j] = nums[j], nums[i]\n",
    "        i += 1\n",
    "        j -= 1\n",
    "    print(nums)"
   ]
  },
  {
   "cell_type": "code",
   "execution_count": 7,
   "id": "69395294",
   "metadata": {},
   "outputs": [
    {
     "name": "stdout",
     "output_type": "stream",
     "text": [
      "[5, 4, 1, 2, 3]\n"
     ]
    }
   ],
   "source": [
    "next_permutation([5,3,4,2,1])"
   ]
  },
  {
   "cell_type": "code",
   "execution_count": null,
   "id": "0439b462",
   "metadata": {},
   "outputs": [],
   "source": []
  },
  {
   "cell_type": "code",
   "execution_count": null,
   "id": "8cec87d1",
   "metadata": {},
   "outputs": [],
   "source": []
  },
  {
   "cell_type": "code",
   "execution_count": null,
   "id": "122f586a",
   "metadata": {},
   "outputs": [],
   "source": []
  },
  {
   "cell_type": "markdown",
   "id": "3fdd3997",
   "metadata": {},
   "source": [
    "Question 4"
   ]
  },
  {
   "cell_type": "code",
   "execution_count": 8,
   "id": "d66ebe53",
   "metadata": {},
   "outputs": [],
   "source": [
    "def target(li,k):\n",
    "    for i in range(len(li)):\n",
    "        if li[i]==k or li[i]>k:\n",
    "            return i"
   ]
  },
  {
   "cell_type": "code",
   "execution_count": 9,
   "id": "a52bc7df",
   "metadata": {},
   "outputs": [
    {
     "data": {
      "text/plain": [
       "6"
      ]
     },
     "execution_count": 9,
     "metadata": {},
     "output_type": "execute_result"
    }
   ],
   "source": [
    "target([1,3,4,4,4,4,6], 5)"
   ]
  },
  {
   "cell_type": "code",
   "execution_count": null,
   "id": "72133cc7",
   "metadata": {},
   "outputs": [],
   "source": []
  },
  {
   "cell_type": "code",
   "execution_count": null,
   "id": "3a153360",
   "metadata": {},
   "outputs": [],
   "source": []
  },
  {
   "cell_type": "code",
   "execution_count": null,
   "id": "b0f3ee30",
   "metadata": {},
   "outputs": [],
   "source": []
  },
  {
   "cell_type": "code",
   "execution_count": null,
   "id": "6bf5c880",
   "metadata": {},
   "outputs": [],
   "source": []
  },
  {
   "cell_type": "markdown",
   "id": "7208ef6e",
   "metadata": {},
   "source": [
    "Question 5"
   ]
  },
  {
   "cell_type": "code",
   "execution_count": 10,
   "id": "ab1a6405",
   "metadata": {},
   "outputs": [],
   "source": [
    "def plusone(li):\n",
    "    n=len(li)-1\n",
    "    while li[n]==9: #to check if the last number is 9 and if so change it to 0 and go to n-1 position\n",
    "        li[n]=0\n",
    "        n=n-1\n",
    "    if n<0: #  once we have handeled the 9s, if all the numbers were 9 we have a list with all 0 elements so we add 1 element in front\n",
    "        li=[1]+li\n",
    "    else:\n",
    "        li[n]=li[n]+1 # if all members are mot 0 we oncrement the number at the pos of cursor\n",
    "    return li"
   ]
  },
  {
   "cell_type": "code",
   "execution_count": 11,
   "id": "72c57572",
   "metadata": {},
   "outputs": [
    {
     "data": {
      "text/plain": [
       "[2, 0, 0]"
      ]
     },
     "execution_count": 11,
     "metadata": {},
     "output_type": "execute_result"
    }
   ],
   "source": [
    "plusone([1,9,9])"
   ]
  },
  {
   "cell_type": "code",
   "execution_count": null,
   "id": "de8e2377",
   "metadata": {},
   "outputs": [],
   "source": []
  },
  {
   "cell_type": "code",
   "execution_count": null,
   "id": "547750b8",
   "metadata": {},
   "outputs": [],
   "source": []
  },
  {
   "cell_type": "code",
   "execution_count": null,
   "id": "9f4df25a",
   "metadata": {},
   "outputs": [],
   "source": []
  },
  {
   "cell_type": "markdown",
   "id": "ba5f2b9c",
   "metadata": {},
   "source": [
    "Question 6"
   ]
  },
  {
   "cell_type": "code",
   "execution_count": 12,
   "id": "4fc7ef74",
   "metadata": {},
   "outputs": [],
   "source": [
    "def onlyones(li):\n",
    "    li=sorted(li)\n",
    "    for i in range(0,len(li),2): #once the ist is sorted we ca assume that there are all are in pair except one and loop with 2 steps\n",
    "        if li[i]!=li[i+1]:\n",
    "            return li[i]"
   ]
  },
  {
   "cell_type": "code",
   "execution_count": 13,
   "id": "d1ff272c",
   "metadata": {},
   "outputs": [
    {
     "data": {
      "text/plain": [
       "8"
      ]
     },
     "execution_count": 13,
     "metadata": {},
     "output_type": "execute_result"
    }
   ],
   "source": [
    "onlyones([2,2,3,3,5,5,8,7,7,9,9])"
   ]
  },
  {
   "cell_type": "code",
   "execution_count": null,
   "id": "4ec41a62",
   "metadata": {},
   "outputs": [],
   "source": []
  },
  {
   "cell_type": "code",
   "execution_count": null,
   "id": "2e0f9542",
   "metadata": {},
   "outputs": [],
   "source": []
  },
  {
   "cell_type": "code",
   "execution_count": null,
   "id": "a8d23b8e",
   "metadata": {},
   "outputs": [],
   "source": []
  },
  {
   "cell_type": "markdown",
   "id": "e288209c",
   "metadata": {},
   "source": [
    "Question 7"
   ]
  },
  {
   "cell_type": "code",
   "execution_count": 14,
   "id": "7c98c38b",
   "metadata": {},
   "outputs": [],
   "source": [
    "def ranges(li,lo,hi):\n",
    "    li1=[] # sublist for values to be operated with\n",
    "    li1.append(lo)\n",
    "    final=[]\n",
    "    for i in li: # loop to get a sublist from main list consisting of only the numbers under the given range and also the low and high value of range\n",
    "        if i>lo and i<hi:\n",
    "            li1.append(i)\n",
    "    li1.append(hi+1)\n",
    "    print(li1)\n",
    "    for i in range(len(li1)-1):\n",
    "        if li1[i]!=li1[i+1]-1: # working with condition of a continous list and if will ony work if its not continous\n",
    "            final.append([li1[i]+1,li1[i+1]-1])\n",
    "            print([li1[i]+1,li1[i+1]-1])\n",
    "    return final\n",
    "            "
   ]
  },
  {
   "cell_type": "code",
   "execution_count": 15,
   "id": "b7e73066",
   "metadata": {},
   "outputs": [
    {
     "name": "stdout",
     "output_type": "stream",
     "text": [
      "[0, 1, 3, 50, 75, 100]\n",
      "[2, 2]\n",
      "[4, 49]\n",
      "[51, 74]\n",
      "[76, 99]\n"
     ]
    },
    {
     "data": {
      "text/plain": [
       "[[2, 2], [4, 49], [51, 74], [76, 99]]"
      ]
     },
     "execution_count": 15,
     "metadata": {},
     "output_type": "execute_result"
    }
   ],
   "source": [
    "ranges([0,1,3,50,75,99], 0,99)"
   ]
  },
  {
   "cell_type": "code",
   "execution_count": null,
   "id": "69a02827",
   "metadata": {},
   "outputs": [],
   "source": []
  },
  {
   "cell_type": "code",
   "execution_count": null,
   "id": "b85c84b3",
   "metadata": {},
   "outputs": [],
   "source": []
  },
  {
   "cell_type": "code",
   "execution_count": null,
   "id": "3751cc21",
   "metadata": {},
   "outputs": [],
   "source": []
  },
  {
   "cell_type": "code",
   "execution_count": null,
   "id": "26573993",
   "metadata": {},
   "outputs": [],
   "source": []
  },
  {
   "cell_type": "markdown",
   "id": "7c5a62cd",
   "metadata": {},
   "source": [
    "Question 8"
   ]
  },
  {
   "cell_type": "code",
   "execution_count": 16,
   "id": "afea6c1a",
   "metadata": {},
   "outputs": [],
   "source": [
    "def meeting(li):\n",
    "    for i in range(len(li)-1):\n",
    "        if li[i][1]>li[i+1][0]: # only checking for false case, if the end time of current meeting is > start of next meeting \n",
    "            return False\n",
    "    return True"
   ]
  },
  {
   "cell_type": "code",
   "execution_count": 17,
   "id": "e2741e96",
   "metadata": {},
   "outputs": [
    {
     "data": {
      "text/plain": [
       "False"
      ]
     },
     "execution_count": 17,
     "metadata": {},
     "output_type": "execute_result"
    }
   ],
   "source": [
    "meeting([[0,30],[5,10],[15,20]])"
   ]
  },
  {
   "cell_type": "code",
   "execution_count": 18,
   "id": "0145fc0b",
   "metadata": {},
   "outputs": [
    {
     "data": {
      "text/plain": [
       "True"
      ]
     },
     "execution_count": 18,
     "metadata": {},
     "output_type": "execute_result"
    }
   ],
   "source": [
    "meeting([[4,6],[7,10]])"
   ]
  },
  {
   "cell_type": "code",
   "execution_count": null,
   "id": "1a286953",
   "metadata": {},
   "outputs": [],
   "source": []
  }
 ],
 "metadata": {
  "kernelspec": {
   "display_name": "Python 3",
   "language": "python",
   "name": "python3"
  },
  "language_info": {
   "codemirror_mode": {
    "name": "ipython",
    "version": 3
   },
   "file_extension": ".py",
   "mimetype": "text/x-python",
   "name": "python",
   "nbconvert_exporter": "python",
   "pygments_lexer": "ipython3",
   "version": "3.8.8"
  }
 },
 "nbformat": 4,
 "nbformat_minor": 5
}
